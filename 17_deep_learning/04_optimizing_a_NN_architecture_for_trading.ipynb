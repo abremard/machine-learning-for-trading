{
 "cells": [
  {
   "cell_type": "markdown",
   "metadata": {},
   "source": [
    "# Train a Deep NN to predict Asset Price returns"
   ]
  },
  {
   "cell_type": "markdown",
   "metadata": {},
   "source": [
    "In practice, we need to explore variations of the design options outlined above because we can rarely be sure from the outset which network architecture best suits the data.\n",
    "\n",
    "In this section, we will explore various options to build a simple feedforward Neural Network to predict asset price returns for a one-day horizon."
   ]
  },
  {
   "cell_type": "markdown",
   "metadata": {},
   "source": [
    "## Imports & Settings"
   ]
  },
  {
   "cell_type": "code",
   "execution_count": 1,
   "metadata": {
    "ExecuteTime": {
     "end_time": "2020-06-21T18:08:48.879727Z",
     "start_time": "2020-06-21T18:08:48.877999Z"
    }
   },
   "outputs": [],
   "source": [
    "import warnings\n",
    "warnings.filterwarnings('ignore')"
   ]
  },
  {
   "cell_type": "code",
   "execution_count": 2,
   "metadata": {
    "ExecuteTime": {
     "end_time": "2020-06-21T18:08:50.456974Z",
     "start_time": "2020-06-21T18:08:48.880955Z"
    }
   },
   "outputs": [],
   "source": [
    "%matplotlib inline\n",
    "\n",
    "import os, sys\n",
    "from ast import literal_eval as make_tuple\n",
    "from time import time\n",
    "from pathlib import Path\n",
    "from itertools import product\n",
    "import numpy as np\n",
    "import pandas as pd\n",
    "import matplotlib.pyplot as plt\n",
    "import statsmodels.api as sm\n",
    "from scipy.stats import spearmanr\n",
    "import seaborn as sns\n",
    "\n",
    "from sklearn.preprocessing import StandardScaler\n",
    "\n",
    "import tensorflow as tf\n",
    "from tensorflow.keras.models import Sequential\n",
    "from tensorflow.keras.layers import Dense, Dropout, Activation"
   ]
  },
  {
   "cell_type": "code",
   "execution_count": 3,
   "metadata": {
    "ExecuteTime": {
     "end_time": "2020-06-21T18:08:50.484830Z",
     "start_time": "2020-06-21T18:08:50.457987Z"
    }
   },
   "outputs": [
    {
     "name": "stdout",
     "output_type": "stream",
     "text": [
      "Using CPU\n"
     ]
    }
   ],
   "source": [
    "gpu_devices = tf.config.experimental.list_physical_devices('GPU')\n",
    "if gpu_devices:\n",
    "    print('Using GPU')\n",
    "    tf.config.experimental.set_memory_growth(gpu_devices[0], True)\n",
    "else:\n",
    "    print('Using CPU')"
   ]
  },
  {
   "cell_type": "code",
   "execution_count": 4,
   "metadata": {
    "ExecuteTime": {
     "end_time": "2020-06-21T18:08:50.501779Z",
     "start_time": "2020-06-21T18:08:50.486181Z"
    }
   },
   "outputs": [],
   "source": [
    "sys.path.insert(1, os.path.join(sys.path[0], '..'))\n",
    "from utils import MultipleTimeSeriesCV, format_time"
   ]
  },
  {
   "cell_type": "code",
   "execution_count": 5,
   "metadata": {
    "ExecuteTime": {
     "end_time": "2020-06-21T18:08:50.509383Z",
     "start_time": "2020-06-21T18:08:50.502654Z"
    }
   },
   "outputs": [],
   "source": [
    "np.random.seed(42)\n",
    "sns.set_style('whitegrid')\n",
    "idx = pd.IndexSlice"
   ]
  },
  {
   "cell_type": "code",
   "execution_count": 6,
   "metadata": {
    "ExecuteTime": {
     "end_time": "2020-06-21T18:08:50.517197Z",
     "start_time": "2020-06-21T18:08:50.510329Z"
    }
   },
   "outputs": [],
   "source": [
    "DATA_STORE = '../data/assets.h5'"
   ]
  },
  {
   "cell_type": "code",
   "execution_count": 7,
   "metadata": {
    "ExecuteTime": {
     "end_time": "2020-06-22T12:04:49.587124Z",
     "start_time": "2020-06-22T12:04:49.577688Z"
    }
   },
   "outputs": [],
   "source": [
    "results_path = Path('results')\n",
    "if not results_path.exists():\n",
    "    results_path.mkdir()\n",
    "    \n",
    "checkpoint_path = results_path / 'logs'"
   ]
  },
  {
   "cell_type": "markdown",
   "metadata": {},
   "source": [
    "## Create a stock return series to predict asset price moves"
   ]
  },
  {
   "cell_type": "markdown",
   "metadata": {},
   "source": [
    "To develop our trading strategy, we use the daily stock returns for some 995 US stocks for the eight year period from 2010 to 2017, and the features developed in Chapter 12 that include volatility and momentum factors as well as lagged returns with cross-sectional and sectoral rankings."
   ]
  },
  {
   "cell_type": "code",
   "execution_count": 8,
   "metadata": {
    "ExecuteTime": {
     "end_time": "2020-06-21T18:08:51.538560Z",
     "start_time": "2020-06-21T18:08:50.527680Z"
    }
   },
   "outputs": [],
   "source": [
    "data = pd.read_hdf('../12_gradient_boosting_machines/data.h5', 'model_data').dropna()"
   ]
  },
  {
   "cell_type": "code",
   "execution_count": 9,
   "metadata": {
    "ExecuteTime": {
     "end_time": "2020-06-21T18:08:51.555255Z",
     "start_time": "2020-06-21T18:08:51.539453Z"
    }
   },
   "outputs": [],
   "source": [
    "outcomes = data.filter(like='fwd').columns.tolist()"
   ]
  },
  {
   "cell_type": "code",
   "execution_count": 10,
   "metadata": {
    "ExecuteTime": {
     "end_time": "2020-06-21T18:08:51.570274Z",
     "start_time": "2020-06-21T18:08:51.556209Z"
    }
   },
   "outputs": [],
   "source": [
    "lookahead = 1\n",
    "outcome= f'r{lookahead:02}_fwd'"
   ]
  },
  {
   "cell_type": "code",
   "execution_count": 11,
   "metadata": {
    "ExecuteTime": {
     "end_time": "2020-06-21T18:08:52.531431Z",
     "start_time": "2020-06-21T18:08:51.571198Z"
    }
   },
   "outputs": [],
   "source": [
    "X_cv = data.loc[idx[:, :'2017'], :].drop(outcomes, axis=1)\n",
    "y_cv = data.loc[idx[:, :'2017'], outcome]"
   ]
  },
  {
   "cell_type": "code",
   "execution_count": 12,
   "metadata": {
    "ExecuteTime": {
     "end_time": "2020-06-21T18:08:52.594107Z",
     "start_time": "2020-06-21T18:08:52.532286Z"
    }
   },
   "outputs": [
    {
     "data": {
      "text/plain": [
       "995"
      ]
     },
     "execution_count": 12,
     "metadata": {},
     "output_type": "execute_result"
    }
   ],
   "source": [
    "len(X_cv.index.get_level_values('symbol').unique())"
   ]
  },
  {
   "cell_type": "code",
   "execution_count": 13,
   "metadata": {
    "ExecuteTime": {
     "end_time": "2020-06-21T18:08:52.752655Z",
     "start_time": "2020-06-21T18:08:52.595138Z"
    }
   },
   "outputs": [
    {
     "name": "stdout",
     "output_type": "stream",
     "text": [
      "<class 'pandas.core.frame.DataFrame'>\n",
      "MultiIndex: 1911344 entries, ('A', Timestamp('2010-04-06 00:00:00')) to ('ZION', Timestamp('2017-11-29 00:00:00'))\n",
      "Data columns (total 30 columns):\n",
      " #   Column           Non-Null Count    Dtype  \n",
      "---  ------           --------------    -----  \n",
      " 0   dollar_vol_rank  1911344 non-null  float64\n",
      " 1   rsi              1911344 non-null  float64\n",
      " 2   bb_high          1911344 non-null  float64\n",
      " 3   bb_low           1911344 non-null  float64\n",
      " 4   NATR             1911344 non-null  float64\n",
      " 5   ATR              1911344 non-null  float64\n",
      " 6   PPO              1911344 non-null  float64\n",
      " 7   MACD             1911344 non-null  float64\n",
      " 8   sector           1911344 non-null  int64  \n",
      " 9   r01              1911344 non-null  float64\n",
      " 10  r05              1911344 non-null  float64\n",
      " 11  r10              1911344 non-null  float64\n",
      " 12  r21              1911344 non-null  float64\n",
      " 13  r42              1911344 non-null  float64\n",
      " 14  r63              1911344 non-null  float64\n",
      " 15  r01dec           1911344 non-null  float64\n",
      " 16  r05dec           1911344 non-null  float64\n",
      " 17  r10dec           1911344 non-null  float64\n",
      " 18  r21dec           1911344 non-null  float64\n",
      " 19  r42dec           1911344 non-null  float64\n",
      " 20  r63dec           1911344 non-null  float64\n",
      " 21  r01q_sector      1911344 non-null  float64\n",
      " 22  r05q_sector      1911344 non-null  float64\n",
      " 23  r10q_sector      1911344 non-null  float64\n",
      " 24  r21q_sector      1911344 non-null  float64\n",
      " 25  r42q_sector      1911344 non-null  float64\n",
      " 26  r63q_sector      1911344 non-null  float64\n",
      " 27  year             1911344 non-null  int64  \n",
      " 28  month            1911344 non-null  int64  \n",
      " 29  weekday          1911344 non-null  int64  \n",
      "dtypes: float64(26), int64(4)\n",
      "memory usage: 444.9+ MB\n"
     ]
    }
   ],
   "source": [
    "X_cv.info(null_counts=True)"
   ]
  },
  {
   "cell_type": "markdown",
   "metadata": {},
   "source": [
    "## Automate model generation"
   ]
  },
  {
   "cell_type": "markdown",
   "metadata": {},
   "source": [
    "The following `make_model` function illustrates how to flexibly define various architectural elements for the search process. The dense_layers argument defines both the depth and width of the network as a list of integers. We also use dropout for regularization, expressed as a float in the range [0, 1] to define the probability that a given unit will be excluded from a training iteration."
   ]
  },
  {
   "cell_type": "code",
   "execution_count": 14,
   "metadata": {
    "ExecuteTime": {
     "end_time": "2020-06-21T18:08:52.761403Z",
     "start_time": "2020-06-21T18:08:52.754021Z"
    }
   },
   "outputs": [],
   "source": [
    "def make_model(dense_layers, activation, dropout):\n",
    "    '''Creates a multi-layer perceptron model\n",
    "    \n",
    "    dense_layers: List of layer sizes; one number per layer\n",
    "    '''\n",
    "\n",
    "    model = Sequential()\n",
    "    for i, layer_size in enumerate(dense_layers, 1):\n",
    "        if i == 1:\n",
    "            model.add(Dense(layer_size, input_dim=X_cv.shape[1]))\n",
    "            model.add(Activation(activation))\n",
    "        else:\n",
    "            model.add(Dense(layer_size))\n",
    "            model.add(Activation(activation))\n",
    "    model.add(Dropout(dropout))\n",
    "    model.add(Dense(1))\n",
    "\n",
    "    model.compile(loss='mean_squared_error',\n",
    "                  optimizer='Adam')\n",
    "\n",
    "    return model"
   ]
  },
  {
   "cell_type": "markdown",
   "metadata": {},
   "source": [
    "## Cross-validate multiple configurations with TensorFlow"
   ]
  },
  {
   "cell_type": "markdown",
   "metadata": {},
   "source": [
    "### Train-Test Split"
   ]
  },
  {
   "cell_type": "markdown",
   "metadata": {},
   "source": [
    "We split the data into a training set for cross-validation, and keep the last 12 months with data as holdout test:"
   ]
  },
  {
   "cell_type": "code",
   "execution_count": 15,
   "metadata": {
    "ExecuteTime": {
     "end_time": "2020-06-21T18:08:52.770881Z",
     "start_time": "2020-06-21T18:08:52.762497Z"
    }
   },
   "outputs": [],
   "source": [
    "n_splits = 12\n",
    "train_period_length=21 * 12 * 4\n",
    "test_period_length=21 * 3"
   ]
  },
  {
   "cell_type": "code",
   "execution_count": 16,
   "metadata": {
    "ExecuteTime": {
     "end_time": "2020-06-21T18:08:52.785240Z",
     "start_time": "2020-06-21T18:08:52.772201Z"
    }
   },
   "outputs": [],
   "source": [
    "cv = MultipleTimeSeriesCV(n_splits=n_splits,\n",
    "                          train_period_length=train_period_length,\n",
    "                          test_period_length=test_period_length,\n",
    "                          lookahead=lookahead)"
   ]
  },
  {
   "cell_type": "markdown",
   "metadata": {},
   "source": [
    "### Define CV Parameters"
   ]
  },
  {
   "cell_type": "markdown",
   "metadata": {},
   "source": [
    "Now we just need to define our Keras classifier using the make_model function, set cross-validation (see chapter 6 on The Machine Learning Process and following for the OneStepTimeSeriesSplit), and the parameters that we would like to explore. \n",
    "\n",
    "We pick several one- and two-layer configurations, relu and tanh activation functions, and different dropout rates. We could also try out different optimizers (but did not run this experiment to limit what is already a computationally intensive effort):"
   ]
  },
  {
   "cell_type": "code",
   "execution_count": 17,
   "metadata": {
    "ExecuteTime": {
     "end_time": "2020-06-21T18:08:52.793327Z",
     "start_time": "2020-06-21T18:08:52.786596Z"
    }
   },
   "outputs": [],
   "source": [
    "dense_layer_opts = [(16, 8), (32, 16), (32, 32), (64, 32)]\n",
    "activation_opts = ['tanh']\n",
    "dropout_opts = [0, .1, .2]"
   ]
  },
  {
   "cell_type": "code",
   "execution_count": 18,
   "metadata": {
    "ExecuteTime": {
     "end_time": "2020-06-21T18:08:52.810201Z",
     "start_time": "2020-06-21T18:08:52.794375Z"
    }
   },
   "outputs": [],
   "source": [
    "param_grid = list(product(dense_layer_opts, activation_opts, dropout_opts))\n",
    "np.random.shuffle(param_grid)"
   ]
  },
  {
   "cell_type": "code",
   "execution_count": 19,
   "metadata": {
    "ExecuteTime": {
     "end_time": "2020-06-21T18:08:52.839581Z",
     "start_time": "2020-06-21T18:08:52.811266Z"
    }
   },
   "outputs": [
    {
     "data": {
      "text/plain": [
       "12"
      ]
     },
     "execution_count": 19,
     "metadata": {},
     "output_type": "execute_result"
    }
   ],
   "source": [
    "len(param_grid)"
   ]
  },
  {
   "cell_type": "markdown",
   "metadata": {},
   "source": [
    "To trigger the parameter search, we instantiate a GridSearchCV object, define the fit_params that will be passed to the Keras model’s fit method, and provide the training data to the GridSearchCV fit method:"
   ]
  },
  {
   "cell_type": "code",
   "execution_count": 20,
   "metadata": {
    "ExecuteTime": {
     "end_time": "2020-06-21T18:08:52.852132Z",
     "start_time": "2020-06-21T18:08:52.840794Z"
    }
   },
   "outputs": [],
   "source": [
    "def get_train_valid_data(X, y, train_idx, test_idx):\n",
    "    x_train, y_train = X.iloc[train_idx, :], y.iloc[train_idx]\n",
    "    x_val, y_val = X.iloc[test_idx, :], y.iloc[test_idx]\n",
    "    return x_train, y_train, x_val, y_val"
   ]
  },
  {
   "cell_type": "code",
   "execution_count": 21,
   "metadata": {
    "ExecuteTime": {
     "end_time": "2020-06-22T09:03:16.932114Z",
     "start_time": "2020-06-21T18:08:52.860680Z"
    },
    "scrolled": true
   },
   "outputs": [
    {
     "name": "stdout",
     "output_type": "stream",
     "text": [
      "(64, 32) tanh 0.1 64\n",
      "00:00:34 01 | 01 |  0.0116 |  0.0166\n",
      "00:01:05 01 | 02 |  0.0174 |  0.0028\n",
      "00:01:36 01 | 03 | -0.0008 | -0.0062\n",
      "00:02:06 01 | 04 |  0.0057 |  0.0022\n",
      "00:02:35 01 | 05 |  0.0192 |  0.0105\n",
      "00:03:04 01 | 06 | -0.0035 | -0.0078\n",
      "00:03:34 01 | 07 |  0.0168 |  0.0126\n",
      "00:04:03 01 | 08 | -0.0033 | -0.0097\n",
      "00:04:33 01 | 09 |  0.0175 |  0.0349\n",
      "00:05:02 01 | 10 |  0.0251 |  0.0180\n",
      "00:05:33 01 | 11 |  0.0199 |  0.0259\n",
      "00:06:02 01 | 12 |  0.0159 |  0.0193\n",
      "00:06:32 01 | 13 |  0.0209 |  0.0296\n",
      "00:07:02 01 | 14 |  0.0135 |  0.0063\n",
      "00:07:32 01 | 15 |  0.0196 |  0.0236\n",
      "00:08:02 01 | 16 |  0.0150 |  0.0021\n",
      "00:08:31 01 | 17 |  0.0090 |  0.0117\n",
      "00:09:01 01 | 18 |  0.0117 | -0.0076\n",
      "00:09:30 01 | 19 |  0.0221 |  0.0186\n",
      "00:09:60 01 | 20 |  0.0226 |  0.0212\n",
      "00:10:31 02 | 01 |  0.0007 |  0.0135\n",
      "00:11:02 02 | 02 | -0.0178 | -0.0067\n",
      "00:11:33 02 | 03 |  0.0203 |  0.0337\n",
      "00:12:02 02 | 04 |  0.0076 | -0.0305\n",
      "00:12:32 02 | 05 | -0.0037 | -0.0065\n",
      "00:13:02 02 | 06 | -0.0072 | -0.0106\n",
      "00:13:33 02 | 07 | -0.0216 | -0.0299\n",
      "00:14:03 02 | 08 | -0.0043 | -0.0368\n",
      "00:14:33 02 | 09 |  0.0238 |  0.0239\n",
      "00:15:04 02 | 10 |  0.0010 | -0.0062\n",
      "00:15:33 02 | 11 |  0.0137 |  0.0294\n",
      "00:16:05 02 | 12 | -0.0158 | -0.0174\n",
      "00:16:35 02 | 13 |  0.0060 |  0.0111\n",
      "00:17:05 02 | 14 |  0.0075 | -0.0144\n",
      "00:17:36 02 | 15 | -0.0234 | -0.0044\n",
      "00:18:06 02 | 16 |  0.0164 |  0.0073\n",
      "00:18:35 02 | 17 |  0.0102 | -0.0124\n",
      "00:19:06 02 | 18 | -0.0175 | -0.0265\n",
      "00:19:36 02 | 19 | -0.0216 | -0.0078\n",
      "00:20:07 02 | 20 |  0.0178 |  0.0413\n",
      "00:20:37 03 | 01 | -0.0134 | -0.0307\n",
      "00:21:07 03 | 02 | -0.0080 |  0.0017\n",
      "00:21:37 03 | 03 |  0.0056 | -0.0154\n",
      "00:22:07 03 | 04 |  0.0104 | -0.0074\n",
      "00:22:37 03 | 05 | -0.0163 | -0.0239\n",
      "00:23:09 03 | 06 |  0.0051 |  0.0105\n",
      "00:23:39 03 | 07 | -0.0145 | -0.0133\n",
      "00:24:10 03 | 08 |  0.0100 |  0.0149\n",
      "00:24:40 03 | 09 | -0.0047 | -0.0033\n",
      "00:25:11 03 | 10 | -0.0347 | -0.0475\n",
      "00:25:40 03 | 11 | -0.0023 |  0.0115\n",
      "00:26:11 03 | 12 | -0.0184 | -0.0229\n",
      "00:26:41 03 | 13 | -0.0071 |  0.0041\n",
      "00:27:11 03 | 14 | -0.0046 | -0.0119\n",
      "00:27:40 03 | 15 |  0.0000 |  0.0086\n",
      "00:28:10 03 | 16 | -0.0188 | -0.0212\n",
      "00:28:40 03 | 17 | -0.0170 | -0.0305\n",
      "00:29:09 03 | 18 | -0.0122 | -0.0101\n",
      "00:29:38 03 | 19 | -0.0187 | -0.0485\n",
      "00:30:08 03 | 20 |  0.0019 |  0.0054\n",
      "00:30:41 04 | 01 | -0.0085 | -0.0007\n",
      "00:31:11 04 | 02 |  0.0109 |  0.0183\n",
      "00:31:41 04 | 03 |  0.0436 |  0.0461\n",
      "00:32:11 04 | 04 | -0.0038 | -0.0225\n",
      "00:32:40 04 | 05 | -0.0355 | -0.0366\n",
      "00:33:10 04 | 06 |  0.0063 |  0.0080\n",
      "00:33:40 04 | 07 |  0.0042 | -0.0214\n",
      "00:34:09 04 | 08 | -0.0059 | -0.0005\n",
      "00:34:39 04 | 09 | -0.0064 |  0.0050\n",
      "00:35:09 04 | 10 | -0.0154 | -0.0097\n",
      "00:35:39 04 | 11 | -0.0093 | -0.0038\n",
      "00:36:07 04 | 12 | -0.0048 |  0.0071\n",
      "00:36:37 04 | 13 | -0.0063 | -0.0091\n",
      "00:37:08 04 | 14 | -0.0332 | -0.0521\n",
      "00:37:38 04 | 15 |  0.0243 |  0.0139\n",
      "00:38:07 04 | 16 |  0.0026 |  0.0042\n",
      "00:38:38 04 | 17 | -0.0336 | -0.0444\n",
      "00:39:07 04 | 18 |  0.0011 |  0.0263\n",
      "00:39:36 04 | 19 | -0.0165 | -0.0017\n",
      "00:40:06 04 | 20 |  0.0201 |  0.0177\n",
      "00:40:36 05 | 01 |  0.0218 |  0.0391\n",
      "00:41:07 05 | 02 | -0.0227 | -0.0142\n",
      "00:41:36 05 | 03 | -0.0165 | -0.0246\n",
      "00:42:05 05 | 04 |  0.0017 | -0.0056\n",
      "00:42:34 05 | 05 |  0.0136 |  0.0180\n",
      "00:43:03 05 | 06 | -0.0078 | -0.0132\n",
      "00:43:34 05 | 07 |  0.0032 |  0.0091\n",
      "00:44:03 05 | 08 |  0.0026 |  0.0033\n",
      "02:00:48 05 | 09 |  0.0128 |  0.0147\n",
      "02:01:19 05 | 10 | -0.0028 | -0.0118\n",
      "02:01:50 05 | 11 | -0.0006 |  0.0092\n",
      "02:02:20 05 | 12 | -0.0005 |  0.0094\n",
      "02:02:49 05 | 13 |  0.0029 | -0.0010\n",
      "02:03:20 05 | 14 |  0.0068 |  0.0038\n",
      "02:03:50 05 | 15 | -0.0050 | -0.0188\n",
      "02:04:20 05 | 16 |  0.0065 | -0.0018\n",
      "02:04:51 05 | 17 |  0.0213 |  0.0161\n",
      "02:05:21 05 | 18 |  0.0081 | -0.0117\n",
      "02:05:51 05 | 19 |  0.0146 |  0.0131\n",
      "02:06:22 05 | 20 |  0.0181 |  0.0163\n",
      "02:06:54 06 | 01 |  0.0127 |  0.0204\n",
      "02:07:24 06 | 02 |  0.0413 |  0.0254\n",
      "02:07:54 06 | 03 |  0.0149 |  0.0105\n",
      "02:08:23 06 | 04 |  0.0277 |  0.0162\n",
      "02:08:53 06 | 05 |  0.0367 |  0.0359\n",
      "02:09:25 06 | 06 |  0.0173 | -0.0001\n",
      "02:09:55 06 | 07 |  0.0371 |  0.0272\n",
      "02:10:25 06 | 08 |  0.0248 |  0.0071\n",
      "02:10:55 06 | 09 |  0.0507 |  0.0413\n",
      "02:11:25 06 | 10 |  0.0328 |  0.0269\n",
      "02:11:56 06 | 11 |  0.0142 | -0.0047\n",
      "02:12:26 06 | 12 |  0.0416 |  0.0233\n",
      "02:12:55 06 | 13 |  0.0407 |  0.0231\n",
      "02:13:25 06 | 14 |  0.0346 |  0.0139\n",
      "02:13:55 06 | 15 |  0.0123 | -0.0071\n",
      "02:14:24 06 | 16 |  0.0451 |  0.0288\n",
      "02:14:54 06 | 17 |  0.0004 |  0.0019\n",
      "02:15:26 06 | 18 |  0.0375 |  0.0171\n",
      "02:15:56 06 | 19 |  0.0372 |  0.0381\n",
      "02:16:26 06 | 20 |  0.0488 |  0.0354\n",
      "02:16:58 07 | 01 | -0.0154 | -0.0224\n",
      "02:17:29 07 | 02 |  0.0308 |  0.0363\n",
      "02:17:59 07 | 03 |  0.0194 |  0.0140\n",
      "02:18:29 07 | 04 |  0.0210 |  0.0094\n",
      "02:18:59 07 | 05 |  0.0249 |  0.0455\n",
      "02:19:29 07 | 06 |  0.0211 |  0.0346\n",
      "02:19:59 07 | 07 |  0.0089 |  0.0317\n",
      "02:20:29 07 | 08 |  0.0491 |  0.0518\n",
      "02:20:59 07 | 09 | -0.0107 | -0.0135\n",
      "02:21:28 07 | 10 |  0.0190 |  0.0188\n",
      "02:21:58 07 | 11 |  0.0186 |  0.0479\n",
      "02:22:28 07 | 12 |  0.0255 |  0.0398\n",
      "02:22:60 07 | 13 |  0.0200 |  0.0179\n",
      "02:23:29 07 | 14 |  0.0163 |  0.0196\n",
      "02:23:59 07 | 15 |  0.0136 |  0.0123\n",
      "02:24:30 07 | 16 | -0.0068 |  0.0101\n",
      "02:25:00 07 | 17 |  0.0016 |  0.0117\n",
      "02:25:30 07 | 18 |  0.0164 |  0.0331\n",
      "02:26:00 07 | 19 |  0.0050 |  0.0102\n",
      "02:26:30 07 | 20 |  0.0261 |  0.0332\n",
      "02:27:01 08 | 01 |  0.0028 |  0.0088\n",
      "02:27:31 08 | 02 |  0.0268 |  0.0225\n",
      "02:28:00 08 | 03 |  0.0095 |  0.0147\n",
      "02:28:31 08 | 04 |  0.0241 |  0.0202\n",
      "02:29:01 08 | 05 |  0.0173 |  0.0182\n",
      "02:29:30 08 | 06 |  0.0026 |  0.0022\n",
      "02:30:00 08 | 07 |  0.0106 |  0.0135\n",
      "02:30:29 08 | 08 |  0.0156 |  0.0348\n",
      "02:30:59 08 | 09 |  0.0138 |  0.0156\n",
      "02:31:30 08 | 10 |  0.0248 |  0.0466\n",
      "02:31:60 08 | 11 |  0.0103 |  0.0371\n",
      "02:32:30 08 | 12 |  0.0102 |  0.0288\n",
      "02:32:59 08 | 13 |  0.0021 |  0.0050\n",
      "02:33:30 08 | 14 |  0.0056 |  0.0120\n",
      "02:34:01 08 | 15 |  0.0083 |  0.0354\n",
      "02:34:30 08 | 16 |  0.0182 |  0.0308\n",
      "02:35:00 08 | 17 |  0.0099 |  0.0199\n",
      "02:35:29 08 | 18 |  0.0237 |  0.0154\n",
      "02:35:60 08 | 19 | -0.0068 |  0.0028\n",
      "02:36:30 08 | 20 |  0.0098 |  0.0364\n",
      "02:37:02 09 | 01 |  0.0141 |  0.0207\n",
      "02:37:31 09 | 02 | -0.0164 | -0.0253\n",
      "02:38:01 09 | 03 |  0.0183 |  0.0266\n",
      "02:38:32 09 | 04 |  0.0199 |  0.0145\n",
      "02:39:03 09 | 05 |  0.0249 |  0.0205\n",
      "02:39:34 09 | 06 |  0.0176 |  0.0306\n",
      "02:40:05 09 | 07 |  0.0128 |  0.0194\n",
      "02:40:35 09 | 08 |  0.0109 | -0.0015\n",
      "02:41:06 09 | 09 |  0.0180 |  0.0361\n",
      "02:41:37 09 | 10 |  0.0036 | -0.0047\n",
      "02:42:07 09 | 11 |  0.0079 |  0.0152\n",
      "02:42:38 09 | 12 |  0.0109 |  0.0202\n",
      "02:43:08 09 | 13 |  0.0060 |  0.0049\n",
      "02:43:40 09 | 14 |  0.0010 | -0.0051\n",
      "02:44:10 09 | 15 |  0.0024 | -0.0018\n",
      "02:44:40 09 | 16 |  0.0050 |  0.0115\n",
      "03:06:43 09 | 17 |  0.0129 |  0.0044\n",
      "03:07:14 09 | 18 |  0.0079 |  0.0082\n",
      "03:07:45 09 | 19 |  0.0051 |  0.0191\n",
      "03:08:15 09 | 20 |  0.0079 |  0.0058\n",
      "03:08:48 10 | 01 | -0.0094 | -0.0073\n",
      "03:09:19 10 | 02 |  0.0231 |  0.0207\n",
      "03:09:50 10 | 03 |  0.0479 |  0.0357\n",
      "03:10:21 10 | 04 |  0.0088 |  0.0092\n",
      "03:10:51 10 | 05 | -0.0154 | -0.0038\n",
      "03:11:20 10 | 06 |  0.0099 |  0.0162\n",
      "03:11:50 10 | 07 | -0.0226 | -0.0415\n",
      "03:12:20 10 | 08 | -0.0029 |  0.0058\n",
      "03:12:50 10 | 09 | -0.0004 |  0.0191\n",
      "03:13:20 10 | 10 |  0.0136 |  0.0099\n",
      "03:13:51 10 | 11 | -0.0054 |  0.0035\n",
      "03:14:20 10 | 12 |  0.0146 |  0.0176\n",
      "03:14:53 10 | 13 | -0.0025 | -0.0018\n",
      "03:15:25 10 | 14 |  0.0218 |  0.0158\n",
      "03:15:56 10 | 15 |  0.0112 |  0.0165\n",
      "03:16:26 10 | 16 | -0.0136 | -0.0137\n",
      "03:16:56 10 | 17 |  0.0066 |  0.0034\n",
      "03:17:25 10 | 18 | -0.0026 |  0.0015\n",
      "03:17:55 10 | 19 | -0.0125 | -0.0072\n",
      "03:18:27 10 | 20 | -0.0076 |  0.0003\n",
      "03:18:59 11 | 01 | -0.0139 | -0.0098\n",
      "03:19:29 11 | 02 |  0.0102 |  0.0128\n",
      "03:19:59 11 | 03 | -0.0038 |  0.0136\n",
      "03:20:29 11 | 04 | -0.0016 |  0.0042\n",
      "03:21:01 11 | 05 |  0.0014 |  0.0023\n",
      "03:21:30 11 | 06 |  0.0135 |  0.0168\n",
      "03:21:59 11 | 07 |  0.0257 |  0.0212\n",
      "03:22:29 11 | 08 |  0.0205 |  0.0283\n",
      "03:23:00 11 | 09 |  0.0243 |  0.0263\n",
      "03:23:30 11 | 10 |  0.0116 |  0.0218\n",
      "03:23:60 11 | 11 |  0.0152 |  0.0161\n",
      "03:24:30 11 | 12 |  0.0071 |  0.0120\n",
      "03:25:01 11 | 13 |  0.0195 |  0.0167\n",
      "03:25:32 11 | 14 | -0.0122 | -0.0110\n",
      "03:26:02 11 | 15 |  0.0090 |  0.0215\n",
      "03:26:32 11 | 16 | -0.0060 | -0.0035\n",
      "03:27:02 11 | 17 |  0.0031 | -0.0008\n",
      "03:27:32 11 | 18 |  0.0193 |  0.0206\n",
      "03:28:02 11 | 19 |  0.0027 |  0.0032\n",
      "03:28:33 11 | 20 |  0.0042 |  0.0092\n",
      "03:29:06 12 | 01 |  0.0255 |  0.0052\n",
      "03:29:36 12 | 02 |  0.0024 | -0.0050\n",
      "03:30:05 12 | 03 | -0.0080 | -0.0073\n",
      "03:30:35 12 | 04 |  0.0061 |  0.0109\n",
      "03:31:07 12 | 05 |  0.0122 |  0.0162\n",
      "03:31:36 12 | 06 |  0.0146 |  0.0192\n",
      "03:32:06 12 | 07 |  0.0018 | -0.0045\n",
      "03:32:37 12 | 08 |  0.0169 |  0.0218\n",
      "03:33:07 12 | 09 |  0.0043 | -0.0009\n",
      "03:33:38 12 | 10 |  0.0027 | -0.0104\n",
      "03:34:08 12 | 11 |  0.0023 | -0.0033\n",
      "03:34:38 12 | 12 | -0.0005 |  0.0051\n",
      "03:35:07 12 | 13 | -0.0032 | -0.0041\n",
      "03:35:37 12 | 14 | -0.0048 | -0.0009\n",
      "03:36:07 12 | 15 | -0.0137 | -0.0140\n",
      "03:36:39 12 | 16 |  0.0030 | -0.0037\n",
      "03:37:09 12 | 17 | -0.0193 | -0.0281\n",
      "03:37:39 12 | 18 | -0.0096 | -0.0002\n",
      "03:38:08 12 | 19 |  0.0070 | -0.0027\n",
      "03:38:39 12 | 20 | -0.0073 |  0.0011\n",
      "(64, 32) tanh 0.1 256\n",
      "00:00:12 01 | 01 |  0.0055 |  0.0056\n",
      "00:00:21 01 | 02 |  0.0153 |  0.0090\n",
      "00:00:31 01 | 03 |  0.0039 |  0.0053\n",
      "00:00:40 01 | 04 |  0.0049 |  0.0168\n",
      "00:00:49 01 | 05 |  0.0061 |  0.0141\n",
      "00:00:59 01 | 06 |  0.0303 |  0.0396\n",
      "00:01:08 01 | 07 |  0.0097 |  0.0091\n",
      "00:01:18 01 | 08 |  0.0093 |  0.0221\n",
      "00:01:28 01 | 09 |  0.0174 |  0.0268\n",
      "00:01:38 01 | 10 |  0.0255 |  0.0246\n",
      "00:01:48 01 | 11 |  0.0055 |  0.0011\n",
      "00:01:57 01 | 12 | -0.0012 | -0.0209\n",
      "00:02:06 01 | 13 | -0.0008 |  0.0088\n",
      "00:02:14 01 | 14 | -0.0061 | -0.0077\n",
      "00:02:24 01 | 15 |  0.0026 |  0.0060\n",
      "00:02:34 01 | 16 |  0.0041 |  0.0164\n",
      "00:02:43 01 | 17 | -0.0037 | -0.0075\n",
      "00:02:52 01 | 18 |  0.0023 | -0.0082\n",
      "00:03:01 01 | 19 | -0.0104 | -0.0043\n",
      "00:03:11 01 | 20 | -0.0051 | -0.0090\n",
      "00:03:22 02 | 01 | -0.0183 |  0.0003\n",
      "00:03:31 02 | 02 |  0.0043 | -0.0041\n",
      "00:03:40 02 | 03 |  0.0048 |  0.0098\n",
      "00:03:49 02 | 04 | -0.0083 |  0.0013\n",
      "00:03:58 02 | 05 |  0.0126 |  0.0220\n",
      "00:04:07 02 | 06 |  0.0132 |  0.0273\n",
      "00:04:17 02 | 07 | -0.0046 |  0.0134\n",
      "00:04:27 02 | 08 | -0.0056 | -0.0112\n",
      "00:04:35 02 | 09 | -0.0150 | -0.0013\n",
      "00:04:45 02 | 10 |  0.0034 |  0.0063\n",
      "00:04:54 02 | 11 |  0.0140 |  0.0037\n",
      "00:05:04 02 | 12 |  0.0067 | -0.0149\n",
      "00:05:14 02 | 13 |  0.0041 | -0.0124\n",
      "00:05:24 02 | 14 |  0.0036 |  0.0010\n",
      "00:05:33 02 | 15 | -0.0058 | -0.0095\n",
      "00:05:43 02 | 16 | -0.0134 | -0.0074\n"
     ]
    },
    {
     "ename": "KeyboardInterrupt",
     "evalue": "",
     "output_type": "error",
     "traceback": [
      "\u001b[0;31m---------------------------------------------------------------------------\u001b[0m",
      "\u001b[0;31mKeyboardInterrupt\u001b[0m                         Traceback (most recent call last)",
      "\u001b[0;32m<ipython-input-21-a04299cd19cd>\u001b[0m in \u001b[0;36m<module>\u001b[0;34m\u001b[0m\n\u001b[1;32m     23\u001b[0m                           \u001b[0mverbose\u001b[0m\u001b[0;34m=\u001b[0m\u001b[0;36m0\u001b[0m\u001b[0;34m,\u001b[0m\u001b[0;34m\u001b[0m\u001b[0;34m\u001b[0m\u001b[0m\n\u001b[1;32m     24\u001b[0m                           \u001b[0mshuffle\u001b[0m\u001b[0;34m=\u001b[0m\u001b[0;32mTrue\u001b[0m\u001b[0;34m,\u001b[0m\u001b[0;34m\u001b[0m\u001b[0;34m\u001b[0m\u001b[0m\n\u001b[0;32m---> 25\u001b[0;31m                           validation_data=(x_val, y_val))\n\u001b[0m\u001b[1;32m     26\u001b[0m                 \u001b[0mmodel\u001b[0m\u001b[0;34m.\u001b[0m\u001b[0msave_weights\u001b[0m\u001b[0;34m(\u001b[0m\u001b[0;34m(\u001b[0m\u001b[0mcheckpoint_path\u001b[0m \u001b[0;34m/\u001b[0m \u001b[0;34mf'ckpt_{fold}_{epoch}'\u001b[0m\u001b[0;34m)\u001b[0m\u001b[0;34m.\u001b[0m\u001b[0mas_posix\u001b[0m\u001b[0;34m(\u001b[0m\u001b[0;34m)\u001b[0m\u001b[0;34m)\u001b[0m\u001b[0;34m\u001b[0m\u001b[0;34m\u001b[0m\u001b[0m\n\u001b[1;32m     27\u001b[0m                 \u001b[0mpreds\u001b[0m\u001b[0;34m[\u001b[0m\u001b[0mepoch\u001b[0m\u001b[0;34m]\u001b[0m \u001b[0;34m=\u001b[0m \u001b[0mmodel\u001b[0m\u001b[0;34m.\u001b[0m\u001b[0mpredict\u001b[0m\u001b[0;34m(\u001b[0m\u001b[0mx_val\u001b[0m\u001b[0;34m)\u001b[0m\u001b[0;34m.\u001b[0m\u001b[0msqueeze\u001b[0m\u001b[0;34m(\u001b[0m\u001b[0;34m)\u001b[0m\u001b[0;34m\u001b[0m\u001b[0;34m\u001b[0m\u001b[0m\n",
      "\u001b[0;32m/opt/conda/envs/ml4t-dl/lib/python3.7/site-packages/tensorflow_core/python/keras/engine/training.py\u001b[0m in \u001b[0;36mfit\u001b[0;34m(self, x, y, batch_size, epochs, verbose, callbacks, validation_split, validation_data, shuffle, class_weight, sample_weight, initial_epoch, steps_per_epoch, validation_steps, validation_freq, max_queue_size, workers, use_multiprocessing, **kwargs)\u001b[0m\n\u001b[1;32m    817\u001b[0m         \u001b[0mmax_queue_size\u001b[0m\u001b[0;34m=\u001b[0m\u001b[0mmax_queue_size\u001b[0m\u001b[0;34m,\u001b[0m\u001b[0;34m\u001b[0m\u001b[0;34m\u001b[0m\u001b[0m\n\u001b[1;32m    818\u001b[0m         \u001b[0mworkers\u001b[0m\u001b[0;34m=\u001b[0m\u001b[0mworkers\u001b[0m\u001b[0;34m,\u001b[0m\u001b[0;34m\u001b[0m\u001b[0;34m\u001b[0m\u001b[0m\n\u001b[0;32m--> 819\u001b[0;31m         use_multiprocessing=use_multiprocessing)\n\u001b[0m\u001b[1;32m    820\u001b[0m \u001b[0;34m\u001b[0m\u001b[0m\n\u001b[1;32m    821\u001b[0m   def evaluate(self,\n",
      "\u001b[0;32m/opt/conda/envs/ml4t-dl/lib/python3.7/site-packages/tensorflow_core/python/keras/engine/training_v2.py\u001b[0m in \u001b[0;36mfit\u001b[0;34m(self, model, x, y, batch_size, epochs, verbose, callbacks, validation_split, validation_data, shuffle, class_weight, sample_weight, initial_epoch, steps_per_epoch, validation_steps, validation_freq, max_queue_size, workers, use_multiprocessing, **kwargs)\u001b[0m\n\u001b[1;32m    340\u001b[0m                 \u001b[0mmode\u001b[0m\u001b[0;34m=\u001b[0m\u001b[0mModeKeys\u001b[0m\u001b[0;34m.\u001b[0m\u001b[0mTRAIN\u001b[0m\u001b[0;34m,\u001b[0m\u001b[0;34m\u001b[0m\u001b[0;34m\u001b[0m\u001b[0m\n\u001b[1;32m    341\u001b[0m                 \u001b[0mtraining_context\u001b[0m\u001b[0;34m=\u001b[0m\u001b[0mtraining_context\u001b[0m\u001b[0;34m,\u001b[0m\u001b[0;34m\u001b[0m\u001b[0;34m\u001b[0m\u001b[0m\n\u001b[0;32m--> 342\u001b[0;31m                 total_epochs=epochs)\n\u001b[0m\u001b[1;32m    343\u001b[0m             \u001b[0mcbks\u001b[0m\u001b[0;34m.\u001b[0m\u001b[0mmake_logs\u001b[0m\u001b[0;34m(\u001b[0m\u001b[0mmodel\u001b[0m\u001b[0;34m,\u001b[0m \u001b[0mepoch_logs\u001b[0m\u001b[0;34m,\u001b[0m \u001b[0mtraining_result\u001b[0m\u001b[0;34m,\u001b[0m \u001b[0mModeKeys\u001b[0m\u001b[0;34m.\u001b[0m\u001b[0mTRAIN\u001b[0m\u001b[0;34m)\u001b[0m\u001b[0;34m\u001b[0m\u001b[0;34m\u001b[0m\u001b[0m\n\u001b[1;32m    344\u001b[0m \u001b[0;34m\u001b[0m\u001b[0m\n",
      "\u001b[0;32m/opt/conda/envs/ml4t-dl/lib/python3.7/site-packages/tensorflow_core/python/keras/engine/training_v2.py\u001b[0m in \u001b[0;36mrun_one_epoch\u001b[0;34m(model, iterator, execution_function, dataset_size, batch_size, strategy, steps_per_epoch, num_samples, mode, training_context, total_epochs)\u001b[0m\n\u001b[1;32m    126\u001b[0m         step=step, mode=mode, size=current_batch_size) as batch_logs:\n\u001b[1;32m    127\u001b[0m       \u001b[0;32mtry\u001b[0m\u001b[0;34m:\u001b[0m\u001b[0;34m\u001b[0m\u001b[0;34m\u001b[0m\u001b[0m\n\u001b[0;32m--> 128\u001b[0;31m         \u001b[0mbatch_outs\u001b[0m \u001b[0;34m=\u001b[0m \u001b[0mexecution_function\u001b[0m\u001b[0;34m(\u001b[0m\u001b[0miterator\u001b[0m\u001b[0;34m)\u001b[0m\u001b[0;34m\u001b[0m\u001b[0;34m\u001b[0m\u001b[0m\n\u001b[0m\u001b[1;32m    129\u001b[0m       \u001b[0;32mexcept\u001b[0m \u001b[0;34m(\u001b[0m\u001b[0mStopIteration\u001b[0m\u001b[0;34m,\u001b[0m \u001b[0merrors\u001b[0m\u001b[0;34m.\u001b[0m\u001b[0mOutOfRangeError\u001b[0m\u001b[0;34m)\u001b[0m\u001b[0;34m:\u001b[0m\u001b[0;34m\u001b[0m\u001b[0;34m\u001b[0m\u001b[0m\n\u001b[1;32m    130\u001b[0m         \u001b[0;31m# TODO(kaftan): File bug about tf function and errors.OutOfRangeError?\u001b[0m\u001b[0;34m\u001b[0m\u001b[0;34m\u001b[0m\u001b[0;34m\u001b[0m\u001b[0m\n",
      "\u001b[0;32m/opt/conda/envs/ml4t-dl/lib/python3.7/site-packages/tensorflow_core/python/keras/engine/training_v2_utils.py\u001b[0m in \u001b[0;36mexecution_function\u001b[0;34m(input_fn)\u001b[0m\n\u001b[1;32m     96\u001b[0m     \u001b[0;31m# `numpy` translates Tensors to values in Eager mode.\u001b[0m\u001b[0;34m\u001b[0m\u001b[0;34m\u001b[0m\u001b[0;34m\u001b[0m\u001b[0m\n\u001b[1;32m     97\u001b[0m     return nest.map_structure(_non_none_constant_value,\n\u001b[0;32m---> 98\u001b[0;31m                               distributed_function(input_fn))\n\u001b[0m\u001b[1;32m     99\u001b[0m \u001b[0;34m\u001b[0m\u001b[0m\n\u001b[1;32m    100\u001b[0m   \u001b[0;32mreturn\u001b[0m \u001b[0mexecution_function\u001b[0m\u001b[0;34m\u001b[0m\u001b[0;34m\u001b[0m\u001b[0m\n",
      "\u001b[0;32m/opt/conda/envs/ml4t-dl/lib/python3.7/site-packages/tensorflow_core/python/eager/def_function.py\u001b[0m in \u001b[0;36m__call__\u001b[0;34m(self, *args, **kwds)\u001b[0m\n\u001b[1;32m    566\u001b[0m         \u001b[0mxla_context\u001b[0m\u001b[0;34m.\u001b[0m\u001b[0mExit\u001b[0m\u001b[0;34m(\u001b[0m\u001b[0;34m)\u001b[0m\u001b[0;34m\u001b[0m\u001b[0;34m\u001b[0m\u001b[0m\n\u001b[1;32m    567\u001b[0m     \u001b[0;32melse\u001b[0m\u001b[0;34m:\u001b[0m\u001b[0;34m\u001b[0m\u001b[0;34m\u001b[0m\u001b[0m\n\u001b[0;32m--> 568\u001b[0;31m       \u001b[0mresult\u001b[0m \u001b[0;34m=\u001b[0m \u001b[0mself\u001b[0m\u001b[0;34m.\u001b[0m\u001b[0m_call\u001b[0m\u001b[0;34m(\u001b[0m\u001b[0;34m*\u001b[0m\u001b[0margs\u001b[0m\u001b[0;34m,\u001b[0m \u001b[0;34m**\u001b[0m\u001b[0mkwds\u001b[0m\u001b[0;34m)\u001b[0m\u001b[0;34m\u001b[0m\u001b[0;34m\u001b[0m\u001b[0m\n\u001b[0m\u001b[1;32m    569\u001b[0m \u001b[0;34m\u001b[0m\u001b[0m\n\u001b[1;32m    570\u001b[0m     \u001b[0;32mif\u001b[0m \u001b[0mtracing_count\u001b[0m \u001b[0;34m==\u001b[0m \u001b[0mself\u001b[0m\u001b[0;34m.\u001b[0m\u001b[0m_get_tracing_count\u001b[0m\u001b[0;34m(\u001b[0m\u001b[0;34m)\u001b[0m\u001b[0;34m:\u001b[0m\u001b[0;34m\u001b[0m\u001b[0;34m\u001b[0m\u001b[0m\n",
      "\u001b[0;32m/opt/conda/envs/ml4t-dl/lib/python3.7/site-packages/tensorflow_core/python/eager/def_function.py\u001b[0m in \u001b[0;36m_call\u001b[0;34m(self, *args, **kwds)\u001b[0m\n\u001b[1;32m    597\u001b[0m       \u001b[0;31m# In this case we have created variables on the first call, so we run the\u001b[0m\u001b[0;34m\u001b[0m\u001b[0;34m\u001b[0m\u001b[0;34m\u001b[0m\u001b[0m\n\u001b[1;32m    598\u001b[0m       \u001b[0;31m# defunned version which is guaranteed to never create variables.\u001b[0m\u001b[0;34m\u001b[0m\u001b[0;34m\u001b[0m\u001b[0;34m\u001b[0m\u001b[0m\n\u001b[0;32m--> 599\u001b[0;31m       \u001b[0;32mreturn\u001b[0m \u001b[0mself\u001b[0m\u001b[0;34m.\u001b[0m\u001b[0m_stateless_fn\u001b[0m\u001b[0;34m(\u001b[0m\u001b[0;34m*\u001b[0m\u001b[0margs\u001b[0m\u001b[0;34m,\u001b[0m \u001b[0;34m**\u001b[0m\u001b[0mkwds\u001b[0m\u001b[0;34m)\u001b[0m  \u001b[0;31m# pylint: disable=not-callable\u001b[0m\u001b[0;34m\u001b[0m\u001b[0;34m\u001b[0m\u001b[0m\n\u001b[0m\u001b[1;32m    600\u001b[0m     \u001b[0;32melif\u001b[0m \u001b[0mself\u001b[0m\u001b[0;34m.\u001b[0m\u001b[0m_stateful_fn\u001b[0m \u001b[0;32mis\u001b[0m \u001b[0;32mnot\u001b[0m \u001b[0;32mNone\u001b[0m\u001b[0;34m:\u001b[0m\u001b[0;34m\u001b[0m\u001b[0;34m\u001b[0m\u001b[0m\n\u001b[1;32m    601\u001b[0m       \u001b[0;31m# Release the lock early so that multiple threads can perform the call\u001b[0m\u001b[0;34m\u001b[0m\u001b[0;34m\u001b[0m\u001b[0;34m\u001b[0m\u001b[0m\n",
      "\u001b[0;32m/opt/conda/envs/ml4t-dl/lib/python3.7/site-packages/tensorflow_core/python/eager/function.py\u001b[0m in \u001b[0;36m__call__\u001b[0;34m(self, *args, **kwargs)\u001b[0m\n\u001b[1;32m   2361\u001b[0m     \u001b[0;32mwith\u001b[0m \u001b[0mself\u001b[0m\u001b[0;34m.\u001b[0m\u001b[0m_lock\u001b[0m\u001b[0;34m:\u001b[0m\u001b[0;34m\u001b[0m\u001b[0;34m\u001b[0m\u001b[0m\n\u001b[1;32m   2362\u001b[0m       \u001b[0mgraph_function\u001b[0m\u001b[0;34m,\u001b[0m \u001b[0margs\u001b[0m\u001b[0;34m,\u001b[0m \u001b[0mkwargs\u001b[0m \u001b[0;34m=\u001b[0m \u001b[0mself\u001b[0m\u001b[0;34m.\u001b[0m\u001b[0m_maybe_define_function\u001b[0m\u001b[0;34m(\u001b[0m\u001b[0margs\u001b[0m\u001b[0;34m,\u001b[0m \u001b[0mkwargs\u001b[0m\u001b[0;34m)\u001b[0m\u001b[0;34m\u001b[0m\u001b[0;34m\u001b[0m\u001b[0m\n\u001b[0;32m-> 2363\u001b[0;31m     \u001b[0;32mreturn\u001b[0m \u001b[0mgraph_function\u001b[0m\u001b[0;34m.\u001b[0m\u001b[0m_filtered_call\u001b[0m\u001b[0;34m(\u001b[0m\u001b[0margs\u001b[0m\u001b[0;34m,\u001b[0m \u001b[0mkwargs\u001b[0m\u001b[0;34m)\u001b[0m  \u001b[0;31m# pylint: disable=protected-access\u001b[0m\u001b[0;34m\u001b[0m\u001b[0;34m\u001b[0m\u001b[0m\n\u001b[0m\u001b[1;32m   2364\u001b[0m \u001b[0;34m\u001b[0m\u001b[0m\n\u001b[1;32m   2365\u001b[0m   \u001b[0;34m@\u001b[0m\u001b[0mproperty\u001b[0m\u001b[0;34m\u001b[0m\u001b[0;34m\u001b[0m\u001b[0m\n",
      "\u001b[0;32m/opt/conda/envs/ml4t-dl/lib/python3.7/site-packages/tensorflow_core/python/eager/function.py\u001b[0m in \u001b[0;36m_filtered_call\u001b[0;34m(self, args, kwargs)\u001b[0m\n\u001b[1;32m   1609\u001b[0m          if isinstance(t, (ops.Tensor,\n\u001b[1;32m   1610\u001b[0m                            resource_variable_ops.BaseResourceVariable))),\n\u001b[0;32m-> 1611\u001b[0;31m         self.captured_inputs)\n\u001b[0m\u001b[1;32m   1612\u001b[0m \u001b[0;34m\u001b[0m\u001b[0m\n\u001b[1;32m   1613\u001b[0m   \u001b[0;32mdef\u001b[0m \u001b[0m_call_flat\u001b[0m\u001b[0;34m(\u001b[0m\u001b[0mself\u001b[0m\u001b[0;34m,\u001b[0m \u001b[0margs\u001b[0m\u001b[0;34m,\u001b[0m \u001b[0mcaptured_inputs\u001b[0m\u001b[0;34m,\u001b[0m \u001b[0mcancellation_manager\u001b[0m\u001b[0;34m=\u001b[0m\u001b[0;32mNone\u001b[0m\u001b[0;34m)\u001b[0m\u001b[0;34m:\u001b[0m\u001b[0;34m\u001b[0m\u001b[0;34m\u001b[0m\u001b[0m\n",
      "\u001b[0;32m/opt/conda/envs/ml4t-dl/lib/python3.7/site-packages/tensorflow_core/python/eager/function.py\u001b[0m in \u001b[0;36m_call_flat\u001b[0;34m(self, args, captured_inputs, cancellation_manager)\u001b[0m\n\u001b[1;32m   1690\u001b[0m       \u001b[0;31m# No tape is watching; skip to running the function.\u001b[0m\u001b[0;34m\u001b[0m\u001b[0;34m\u001b[0m\u001b[0;34m\u001b[0m\u001b[0m\n\u001b[1;32m   1691\u001b[0m       return self._build_call_outputs(self._inference_function.call(\n\u001b[0;32m-> 1692\u001b[0;31m           ctx, args, cancellation_manager=cancellation_manager))\n\u001b[0m\u001b[1;32m   1693\u001b[0m     forward_backward = self._select_forward_and_backward_functions(\n\u001b[1;32m   1694\u001b[0m         \u001b[0margs\u001b[0m\u001b[0;34m,\u001b[0m\u001b[0;34m\u001b[0m\u001b[0;34m\u001b[0m\u001b[0m\n",
      "\u001b[0;32m/opt/conda/envs/ml4t-dl/lib/python3.7/site-packages/tensorflow_core/python/eager/function.py\u001b[0m in \u001b[0;36mcall\u001b[0;34m(self, ctx, args, cancellation_manager)\u001b[0m\n\u001b[1;32m    543\u001b[0m               \u001b[0minputs\u001b[0m\u001b[0;34m=\u001b[0m\u001b[0margs\u001b[0m\u001b[0;34m,\u001b[0m\u001b[0;34m\u001b[0m\u001b[0;34m\u001b[0m\u001b[0m\n\u001b[1;32m    544\u001b[0m               \u001b[0mattrs\u001b[0m\u001b[0;34m=\u001b[0m\u001b[0;34m(\u001b[0m\u001b[0;34m\"executor_type\"\u001b[0m\u001b[0;34m,\u001b[0m \u001b[0mexecutor_type\u001b[0m\u001b[0;34m,\u001b[0m \u001b[0;34m\"config_proto\"\u001b[0m\u001b[0;34m,\u001b[0m \u001b[0mconfig\u001b[0m\u001b[0;34m)\u001b[0m\u001b[0;34m,\u001b[0m\u001b[0;34m\u001b[0m\u001b[0;34m\u001b[0m\u001b[0m\n\u001b[0;32m--> 545\u001b[0;31m               ctx=ctx)\n\u001b[0m\u001b[1;32m    546\u001b[0m         \u001b[0;32melse\u001b[0m\u001b[0;34m:\u001b[0m\u001b[0;34m\u001b[0m\u001b[0;34m\u001b[0m\u001b[0m\n\u001b[1;32m    547\u001b[0m           outputs = execute.execute_with_cancellation(\n",
      "\u001b[0;32m/opt/conda/envs/ml4t-dl/lib/python3.7/site-packages/tensorflow_core/python/eager/execute.py\u001b[0m in \u001b[0;36mquick_execute\u001b[0;34m(op_name, num_outputs, inputs, attrs, ctx, name)\u001b[0m\n\u001b[1;32m     59\u001b[0m     tensors = pywrap_tensorflow.TFE_Py_Execute(ctx._handle, device_name,\n\u001b[1;32m     60\u001b[0m                                                \u001b[0mop_name\u001b[0m\u001b[0;34m,\u001b[0m \u001b[0minputs\u001b[0m\u001b[0;34m,\u001b[0m \u001b[0mattrs\u001b[0m\u001b[0;34m,\u001b[0m\u001b[0;34m\u001b[0m\u001b[0;34m\u001b[0m\u001b[0m\n\u001b[0;32m---> 61\u001b[0;31m                                                num_outputs)\n\u001b[0m\u001b[1;32m     62\u001b[0m   \u001b[0;32mexcept\u001b[0m \u001b[0mcore\u001b[0m\u001b[0;34m.\u001b[0m\u001b[0m_NotOkStatusException\u001b[0m \u001b[0;32mas\u001b[0m \u001b[0me\u001b[0m\u001b[0;34m:\u001b[0m\u001b[0;34m\u001b[0m\u001b[0;34m\u001b[0m\u001b[0m\n\u001b[1;32m     63\u001b[0m     \u001b[0;32mif\u001b[0m \u001b[0mname\u001b[0m \u001b[0;32mis\u001b[0m \u001b[0;32mnot\u001b[0m \u001b[0;32mNone\u001b[0m\u001b[0;34m:\u001b[0m\u001b[0;34m\u001b[0m\u001b[0;34m\u001b[0m\u001b[0m\n",
      "\u001b[0;31mKeyboardInterrupt\u001b[0m: "
     ]
    }
   ],
   "source": [
    "ic = []\n",
    "scaler = StandardScaler()\n",
    "for params in param_grid:\n",
    "    dense_layers, activation, dropout = params\n",
    "    for batch_size in [64, 256]:\n",
    "        print(dense_layers, activation, dropout, batch_size)\n",
    "        checkpoint_dir = checkpoint_path / str(dense_layers) / activation / str(dropout) / str(batch_size)\n",
    "        if not checkpoint_dir.exists():\n",
    "            checkpoint_dir.mkdir(parents=True, exist_ok=True)\n",
    "        start = time()\n",
    "        for fold, (train_idx, test_idx) in enumerate(cv.split(X_cv)):\n",
    "            x_train, y_train, x_val, y_val = get_train_valid_data(X_cv, y_cv, train_idx, test_idx)\n",
    "            x_train = scaler.fit_transform(x_train)\n",
    "            x_val = scaler.transform(x_val)\n",
    "            preds = y_val.to_frame('actual')\n",
    "            r = pd.DataFrame(index=y_val.groupby(level='date').size().index)\n",
    "            model = make_model(dense_layers, activation, dropout)\n",
    "            for epoch in range(20):            \n",
    "                model.fit(x_train,\n",
    "                          y_train,\n",
    "                          batch_size=batch_size,\n",
    "                          epochs=1,\n",
    "                          verbose=0,\n",
    "                          shuffle=True,\n",
    "                          validation_data=(x_val, y_val))\n",
    "                model.save_weights((checkpoint_path / f'ckpt_{fold}_{epoch}').as_posix())\n",
    "                preds[epoch] = model.predict(x_val).squeeze()\n",
    "                r[epoch] = preds.groupby(level='date').apply(lambda x: spearmanr(x.actual, x[epoch])[0]).to_frame(epoch)\n",
    "                print(format_time(time()-start), f'{fold + 1:02d} | {epoch + 1:02d} | {r[epoch].mean():7.4f} | {r[epoch].median():7.4f}')\n",
    "            ic.append(r.assign(dense_layers=str(dense_layers), \n",
    "                               activation=activation, \n",
    "                               dropout=dropout,\n",
    "                               batch_size=batch_size,\n",
    "                               fold=fold))       \n",
    "\n",
    "        t = time()-start\n",
    "        pd.concat(ic).to_hdf(results_path / 'scores.h5', 'ic_by_day')"
   ]
  },
  {
   "cell_type": "markdown",
   "metadata": {},
   "source": [
    "### Evaluate predictive performance"
   ]
  },
  {
   "cell_type": "code",
   "execution_count": 22,
   "metadata": {
    "ExecuteTime": {
     "end_time": "2020-06-22T09:03:16.935076Z",
     "start_time": "2020-06-22T09:03:16.933294Z"
    }
   },
   "outputs": [],
   "source": [
    "params = ['dense_layers', 'dropout', 'batch_size']"
   ]
  },
  {
   "cell_type": "code",
   "execution_count": 23,
   "metadata": {
    "ExecuteTime": {
     "end_time": "2020-06-22T09:03:16.973444Z",
     "start_time": "2020-06-22T09:03:16.935966Z"
    }
   },
   "outputs": [
    {
     "name": "stdout",
     "output_type": "stream",
     "text": [
      "<class 'pandas.core.frame.DataFrame'>\n",
      "DatetimeIndex: 756 entries, 2017-08-30 to 2015-03-02\n",
      "Data columns (total 24 columns):\n",
      " #   Column        Non-Null Count  Dtype  \n",
      "---  ------        --------------  -----  \n",
      " 0   0             756 non-null    float64\n",
      " 1   1             756 non-null    float64\n",
      " 2   2             756 non-null    float64\n",
      " 3   3             756 non-null    float64\n",
      " 4   4             756 non-null    float64\n",
      " 5   5             756 non-null    float64\n",
      " 6   6             756 non-null    float64\n",
      " 7   7             756 non-null    float64\n",
      " 8   8             756 non-null    float64\n",
      " 9   9             756 non-null    float64\n",
      " 10  10            756 non-null    float64\n",
      " 11  11            756 non-null    float64\n",
      " 12  12            756 non-null    float64\n",
      " 13  13            756 non-null    float64\n",
      " 14  14            756 non-null    float64\n",
      " 15  15            756 non-null    float64\n",
      " 16  16            756 non-null    float64\n",
      " 17  17            756 non-null    float64\n",
      " 18  18            756 non-null    float64\n",
      " 19  19            756 non-null    float64\n",
      " 20  dense_layers  756 non-null    object \n",
      " 21  dropout       756 non-null    float64\n",
      " 22  batch_size    756 non-null    int64  \n",
      " 23  fold          756 non-null    int64  \n",
      "dtypes: float64(21), int64(2), object(1)\n",
      "memory usage: 147.7+ KB\n"
     ]
    }
   ],
   "source": [
    "ic = pd.read_hdf(results_path / 'scores.h5', 'ic_by_day').drop('activation', axis=1)\n",
    "ic.info()"
   ]
  },
  {
   "cell_type": "code",
   "execution_count": 24,
   "metadata": {
    "ExecuteTime": {
     "end_time": "2020-06-22T09:03:16.981070Z",
     "start_time": "2020-06-22T09:03:16.975222Z"
    }
   },
   "outputs": [
    {
     "data": {
      "text/plain": [
       "dense_layers  dropout  batch_size\n",
       "(64, 32)      0.1      64            756\n",
       "dtype: int64"
      ]
     },
     "execution_count": 24,
     "metadata": {},
     "output_type": "execute_result"
    }
   ],
   "source": [
    "ic.groupby(params).size()"
   ]
  },
  {
   "cell_type": "code",
   "execution_count": 25,
   "metadata": {
    "ExecuteTime": {
     "end_time": "2020-06-22T09:03:17.024711Z",
     "start_time": "2020-06-22T09:03:16.982017Z"
    }
   },
   "outputs": [
    {
     "name": "stdout",
     "output_type": "stream",
     "text": [
      "<class 'pandas.core.frame.DataFrame'>\n",
      "RangeIndex: 15120 entries, 0 to 15119\n",
      "Data columns (total 6 columns):\n",
      " #   Column        Non-Null Count  Dtype  \n",
      "---  ------        --------------  -----  \n",
      " 0   dense_layers  15120 non-null  object \n",
      " 1   dropout       15120 non-null  float64\n",
      " 2   batch_size    15120 non-null  int64  \n",
      " 3   fold          15120 non-null  int64  \n",
      " 4   epoch         15120 non-null  object \n",
      " 5   ic            15120 non-null  float64\n",
      "dtypes: float64(2), int64(2), object(2)\n",
      "memory usage: 708.9+ KB\n"
     ]
    }
   ],
   "source": [
    "ic_long = pd.melt(ic, id_vars=params + ['fold'], var_name='epoch', value_name='ic')\n",
    "ic_long.info()"
   ]
  },
  {
   "cell_type": "code",
   "execution_count": 26,
   "metadata": {
    "ExecuteTime": {
     "end_time": "2020-06-22T09:03:17.066133Z",
     "start_time": "2020-06-22T09:03:17.025686Z"
    }
   },
   "outputs": [],
   "source": [
    "ic_long = ic_long.groupby(params+ ['epoch', 'fold']).ic.mean().to_frame('ic').reset_index()"
   ]
  },
  {
   "cell_type": "code",
   "execution_count": 27,
   "metadata": {
    "ExecuteTime": {
     "end_time": "2020-06-22T10:52:03.780459Z",
     "start_time": "2020-06-22T10:51:57.820200Z"
    }
   },
   "outputs": [
    {
     "data": {
      "image/png": "[encoded data removed]",
      "text/plain": [
       "<Figure size 360x360 with 1 Axes>"
      ]
     },
     "metadata": {},
     "output_type": "display_data"
    }
   ],
   "source": [
    "g = sns.relplot(x='epoch', y='ic', col='dense_layers', row='dropout', \n",
    "                data=ic_long[ic_long.dropout>0], kind='line')\n",
    "g.map(plt.axhline, y=0, ls='--', c='k', lw=1)\n",
    "g.savefig(results_path / 'ic_lineplot', dpi=300);"
   ]
  },
  {
   "cell_type": "code",
   "execution_count": 28,
   "metadata": {
    "ExecuteTime": {
     "end_time": "2020-06-22T10:52:06.995426Z",
     "start_time": "2020-06-22T10:52:06.979836Z"
    }
   },
   "outputs": [],
   "source": [
    "def run_ols(ic):\n",
    "    ic.dense_layers = ic.dense_layers.str.replace(', ', '-').str.replace('(', '').str.replace(')', '')\n",
    "    data = pd.melt(ic, id_vars=params, var_name='epoch', value_name='ic')\n",
    "    data.epoch = data.epoch.astype(int).astype(str).apply(lambda x: f'{int(x):02.0f}')\n",
    "    model_data = pd.get_dummies(data.sort_values(params + ['epoch']), columns=['epoch'] + params, drop_first=True).sort_index(1)\n",
    "    model_data.columns = [s.split('_')[-1] for s in model_data.columns]\n",
    "    model = sm.OLS(endog=model_data.ic, exog=sm.add_constant(model_data.drop('ic', axis=1)))\n",
    "    return model.fit()"
   ]
  },
  {
   "cell_type": "code",
   "execution_count": 29,
   "metadata": {
    "ExecuteTime": {
     "end_time": "2020-06-22T10:52:08.144051Z",
     "start_time": "2020-06-22T10:52:07.304541Z"
    }
   },
   "outputs": [],
   "source": [
    "model = run_ols(ic.drop('fold', axis=1))"
   ]
  },
  {
   "cell_type": "code",
   "execution_count": 30,
   "metadata": {
    "ExecuteTime": {
     "end_time": "2020-06-22T10:52:08.513752Z",
     "start_time": "2020-06-22T10:52:08.433474Z"
    }
   },
   "outputs": [
    {
     "name": "stdout",
     "output_type": "stream",
     "text": [
      "                            OLS Regression Results                            \n",
      "==============================================================================\n",
      "Dep. Variable:                     ic   R-squared:                       0.001\n",
      "Model:                            OLS   Adj. R-squared:                 -0.001\n",
      "Method:                 Least Squares   F-statistic:                    0.5881\n",
      "Date:                Wed, 24 Feb 2021   Prob (F-statistic):              0.918\n",
      "Time:                        16:31:27   Log-Likelihood:                 9612.0\n",
      "No. Observations:               15120   AIC:                        -1.918e+04\n",
      "Df Residuals:                   15100   BIC:                        -1.903e+04\n",
      "Df Model:                          19                                         \n",
      "Covariance Type:            nonrobust                                         \n",
      "==============================================================================\n",
      "                 coef    std err          t      P>|t|      [0.025      0.975]\n",
      "------------------------------------------------------------------------------\n",
      "const          0.0024      0.005      0.514      0.607      -0.007       0.012\n",
      "01             0.0058      0.007      0.874      0.382      -0.007       0.019\n",
      "02             0.0101      0.007      1.538      0.124      -0.003       0.023\n",
      "03             0.0083      0.007      1.251      0.211      -0.005       0.021\n",
      "04             0.0042      0.007      0.640      0.522      -0.009       0.017\n",
      "05             0.0051      0.007      0.769      0.442      -0.008       0.018\n",
      "06             0.0028      0.007      0.423      0.672      -0.010       0.016\n",
      "07             0.0088      0.007      1.328      0.184      -0.004       0.022\n",
      "08             0.0095      0.007      1.444      0.149      -0.003       0.022\n",
      "09             0.0044      0.007      0.666      0.505      -0.009       0.017\n",
      "10             0.0046      0.007      0.705      0.481      -0.008       0.018\n",
      "11             0.0047      0.007      0.719      0.472      -0.008       0.018\n",
      "12             0.0058      0.007      0.886      0.376      -0.007       0.019\n",
      "13             0.0019      0.007      0.295      0.768      -0.011       0.015\n",
      "14             0.0025      0.007      0.378      0.706      -0.010       0.015\n",
      "15             0.0032      0.007      0.480      0.631      -0.010       0.016\n",
      "16            -0.0020      0.007     -0.300      0.764      -0.015       0.011\n",
      "17             0.0046      0.007      0.700      0.484      -0.008       0.018\n",
      "18            -0.0009      0.007     -0.141      0.888      -0.014       0.012\n",
      "19             0.0111      0.007      1.687      0.092      -0.002       0.024\n",
      "==============================================================================\n",
      "Omnibus:                      353.240   Durbin-Watson:                   1.982\n",
      "Prob(Omnibus):                  0.000   Jarque-Bera (JB):              733.567\n",
      "Skew:                           0.125   Prob(JB):                    5.10e-160\n",
      "Kurtosis:                       4.050   Cond. No.                         21.0\n",
      "==============================================================================\n",
      "\n",
      "Warnings:\n",
      "[1] Standard Errors assume that the covariance matrix of the errors is correctly specified.\n"
     ]
    }
   ],
   "source": [
    "print(model.summary())"
   ]
  },
  {
   "cell_type": "code",
   "execution_count": 31,
   "metadata": {
    "ExecuteTime": {
     "end_time": "2020-06-22T10:52:13.437203Z",
     "start_time": "2020-06-22T10:52:12.851617Z"
    }
   },
   "outputs": [
    {
     "data": {
      "image/png": "[encoded data removed]",
      "text/plain": [
       "<Figure size 1008x288 with 1 Axes>"
      ]
     },
     "metadata": {},
     "output_type": "display_data"
    }
   ],
   "source": [
    "fig, ax = plt.subplots(figsize=(14, 4))\n",
    "\n",
    "ci = model.conf_int()\n",
    "errors = ci[1].sub(ci[0]).div(2)\n",
    "\n",
    "coefs = (model.params.to_frame('coef').assign(error=errors)\n",
    "         .reset_index().rename(columns={'index': 'variable'}))\n",
    "coefs = coefs[~coefs['variable'].str.startswith('date') & (coefs.variable != 'const')]\n",
    "\n",
    "coefs.plot(x='variable', y='coef', kind='bar',\n",
    "           ax=ax, color='none', capsize=3,\n",
    "           yerr='error', legend=False, rot=0, title='Impact of Architecture and Training Parameters on Out-of-Sample Performance')\n",
    "ax.set_ylabel('IC')\n",
    "ax.set_xlabel('')\n",
    "ax.scatter(x=pd.np.arange(len(coefs)), marker='_', s=120, y=coefs['coef'], color='black')\n",
    "ax.axhline(y=0, linestyle='--', color='black', linewidth=1)\n",
    "ax.xaxis.set_ticks_position('none')\n",
    "\n",
    "ax.annotate('Batch Size', xy=(.02, -0.1), xytext=(.02, -0.2),\n",
    "            xycoords='axes fraction',\n",
    "            textcoords='axes fraction',\n",
    "            fontsize=11, ha='center', va='bottom',\n",
    "            bbox=dict(boxstyle='square', fc='white', ec='black'),\n",
    "            arrowprops=dict(arrowstyle='-[, widthB=1.3, lengthB=0.8', lw=1.0, color='black'))\n",
    "\n",
    "ax.annotate('Layers', xy=(.1, -0.1), xytext=(.1, -0.2),\n",
    "            xycoords='axes fraction',\n",
    "            textcoords='axes fraction',\n",
    "            fontsize=11, ha='center', va='bottom',\n",
    "            bbox=dict(boxstyle='square', fc='white', ec='black'),\n",
    "            arrowprops=dict(arrowstyle='-[, widthB=4.8, lengthB=0.8', lw=1.0, color='black'))\n",
    "\n",
    "ax.annotate('Dropout', xy=(.2, -0.1), xytext=(.2, -0.2),\n",
    "            xycoords='axes fraction',\n",
    "            textcoords='axes fraction',\n",
    "            fontsize=11, ha='center', va='bottom',\n",
    "            bbox=dict(boxstyle='square', fc='white', ec='black'),\n",
    "            arrowprops=dict(arrowstyle='-[, widthB=2.8, lengthB=0.8', lw=1.0, color='black'))\n",
    "\n",
    "ax.annotate('Epochs', xy=(.62, -0.1), xytext=(.62, -0.2),\n",
    "            xycoords='axes fraction',\n",
    "            textcoords='axes fraction',\n",
    "            fontsize=11, ha='center', va='bottom',\n",
    "            bbox=dict(boxstyle='square', fc='white', ec='black'),\n",
    "            arrowprops=dict(arrowstyle='-[, widthB=30.5, lengthB=1.0', lw=1.0, color='black'))\n",
    "\n",
    "sns.despine()\n",
    "fig.tight_layout()\n",
    "fig.savefig(results_path / 'ols_coef', dpi=300)"
   ]
  },
  {
   "cell_type": "markdown",
   "metadata": {},
   "source": [
    "## Make Predictions"
   ]
  },
  {
   "cell_type": "code",
   "execution_count": 32,
   "metadata": {
    "ExecuteTime": {
     "end_time": "2020-06-22T12:17:13.754976Z",
     "start_time": "2020-06-22T12:17:13.751355Z"
    }
   },
   "outputs": [],
   "source": [
    "def get_best_params(n=5):\n",
    "    \"\"\"Get the best parameters across all folds by daily median IC\"\"\"\n",
    "    params = ['dense_layers', 'activation', 'dropout', 'batch_size']\n",
    "    ic = pd.read_hdf(results_path / 'scores.h5', 'ic_by_day').drop('fold', axis=1)\n",
    "    dates = sorted(ic.index.unique())\n",
    "    train_period = 24 * 21\n",
    "    train_dates = dates[:train_period]\n",
    "    ic = ic.loc[train_dates]\n",
    "    return (ic.groupby(params)\n",
    "            .median()\n",
    "            .stack()\n",
    "            .to_frame('ic')\n",
    "            .reset_index()\n",
    "            .rename(columns={'level_4': 'epoch'})\n",
    "            .nlargest(n=n, columns='ic')\n",
    "            .drop('ic', axis=1)\n",
    "            .to_dict('records'))"
   ]
  },
  {
   "cell_type": "code",
   "execution_count": 33,
   "metadata": {
    "ExecuteTime": {
     "end_time": "2020-06-22T12:17:14.947986Z",
     "start_time": "2020-06-22T12:17:14.927731Z"
    }
   },
   "outputs": [],
   "source": [
    "def generate_predictions(dense_layers, activation, dropout, batch_size, epoch):\n",
    "    data = pd.read_hdf('../12_gradient_boosting_machines/data.h5', 'model_data').dropna()\n",
    "    outcomes = data.filter(like='fwd').columns.tolist()\n",
    "    X_cv = data.loc[idx[:, :'2017'], :].drop(outcomes, axis=1)\n",
    "    input_dim = X_cv.shape[1]\n",
    "    y_cv = data.loc[idx[:, :'2017'], 'r01_fwd']\n",
    "\n",
    "    scaler = StandardScaler()\n",
    "    predictions = []\n",
    "    \n",
    "    do = '0' if str(dropout) == '0.0' else str(dropout)\n",
    "    checkpoint_dir = checkpoint_path / dense_layers / activation / do / str(batch_size)\n",
    "        \n",
    "    for fold, (train_idx, test_idx) in enumerate(cv.split(X_cv)):\n",
    "        x_train, y_train, x_val, y_val = get_train_valid_data(X_cv, y_cv, train_idx, test_idx)\n",
    "        x_val = scaler.fit(x_train).transform(x_val)\n",
    "        model = make_model(make_tuple(dense_layers), activation, dropout)\n",
    "        status = model.load_weights((checkpoint_dir / f'ckpt_{fold}_{epoch}').as_posix())\n",
    "        status.expect_partial()\n",
    "        predictions.append(pd.Series(model.predict(x_val).squeeze(), index=y_val.index))\n",
    "    return pd.concat(predictions)        "
   ]
  },
  {
   "cell_type": "code",
   "execution_count": 34,
   "metadata": {
    "ExecuteTime": {
     "end_time": "2020-06-22T12:18:23.019712Z",
     "start_time": "2020-06-22T12:17:15.531202Z"
    }
   },
   "outputs": [
    {
     "ename": "NotFoundError",
     "evalue": "Unsuccessful TensorSliceReader constructor: Failed to find any matching files for results/logs/(64, 32)/tanh/0.1/64/ckpt_0_7",
     "output_type": "error",
     "traceback": [
      "\u001b[0;31m---------------------------------------------------------------------------\u001b[0m",
      "\u001b[0;31mRuntimeError\u001b[0m                              Traceback (most recent call last)",
      "\u001b[0;32m/opt/conda/envs/ml4t-dl/lib/python3.7/site-packages/tensorflow_core/python/training/py_checkpoint_reader.py\u001b[0m in \u001b[0;36mNewCheckpointReader\u001b[0;34m(filepattern)\u001b[0m\n\u001b[1;32m     94\u001b[0m   \u001b[0;32mtry\u001b[0m\u001b[0;34m:\u001b[0m\u001b[0;34m\u001b[0m\u001b[0;34m\u001b[0m\u001b[0m\n\u001b[0;32m---> 95\u001b[0;31m     \u001b[0;32mreturn\u001b[0m \u001b[0mCheckpointReader\u001b[0m\u001b[0;34m(\u001b[0m\u001b[0mcompat\u001b[0m\u001b[0;34m.\u001b[0m\u001b[0mas_bytes\u001b[0m\u001b[0;34m(\u001b[0m\u001b[0mfilepattern\u001b[0m\u001b[0;34m)\u001b[0m\u001b[0;34m)\u001b[0m\u001b[0;34m\u001b[0m\u001b[0;34m\u001b[0m\u001b[0m\n\u001b[0m\u001b[1;32m     96\u001b[0m   \u001b[0;31m# TODO(b/143319754): Remove the RuntimeError casting logic once we resolve the\u001b[0m\u001b[0;34m\u001b[0m\u001b[0;34m\u001b[0m\u001b[0;34m\u001b[0m\u001b[0m\n",
      "\u001b[0;31mRuntimeError\u001b[0m: Unsuccessful TensorSliceReader constructor: Failed to find any matching files for results/logs/(64, 32)/tanh/0.1/64/ckpt_0_7",
      "\nDuring handling of the above exception, another exception occurred:\n",
      "\u001b[0;31mNotFoundError\u001b[0m                             Traceback (most recent call last)",
      "\u001b[0;32m<ipython-input-34-293e5b606df7>\u001b[0m in \u001b[0;36m<module>\u001b[0;34m\u001b[0m\n\u001b[1;32m      2\u001b[0m \u001b[0mpredictions\u001b[0m \u001b[0;34m=\u001b[0m \u001b[0;34m[\u001b[0m\u001b[0;34m]\u001b[0m\u001b[0;34m\u001b[0m\u001b[0;34m\u001b[0m\u001b[0m\n\u001b[1;32m      3\u001b[0m \u001b[0;32mfor\u001b[0m \u001b[0mi\u001b[0m\u001b[0;34m,\u001b[0m \u001b[0mparams\u001b[0m \u001b[0;32min\u001b[0m \u001b[0menumerate\u001b[0m\u001b[0;34m(\u001b[0m\u001b[0mbest_params\u001b[0m\u001b[0;34m)\u001b[0m\u001b[0;34m:\u001b[0m\u001b[0;34m\u001b[0m\u001b[0;34m\u001b[0m\u001b[0m\n\u001b[0;32m----> 4\u001b[0;31m     \u001b[0mpredictions\u001b[0m\u001b[0;34m.\u001b[0m\u001b[0mappend\u001b[0m\u001b[0;34m(\u001b[0m\u001b[0mgenerate_predictions\u001b[0m\u001b[0;34m(\u001b[0m\u001b[0;34m**\u001b[0m\u001b[0mparams\u001b[0m\u001b[0;34m)\u001b[0m\u001b[0;34m.\u001b[0m\u001b[0mto_frame\u001b[0m\u001b[0;34m(\u001b[0m\u001b[0mi\u001b[0m\u001b[0;34m)\u001b[0m\u001b[0;34m)\u001b[0m\u001b[0;34m\u001b[0m\u001b[0;34m\u001b[0m\u001b[0m\n\u001b[0m\u001b[1;32m      5\u001b[0m \u001b[0;34m\u001b[0m\u001b[0m\n\u001b[1;32m      6\u001b[0m \u001b[0mpredictions\u001b[0m \u001b[0;34m=\u001b[0m \u001b[0mpd\u001b[0m\u001b[0;34m.\u001b[0m\u001b[0mconcat\u001b[0m\u001b[0;34m(\u001b[0m\u001b[0mpredictions\u001b[0m\u001b[0;34m,\u001b[0m \u001b[0maxis\u001b[0m\u001b[0;34m=\u001b[0m\u001b[0;36m1\u001b[0m\u001b[0;34m)\u001b[0m\u001b[0;34m\u001b[0m\u001b[0;34m\u001b[0m\u001b[0m\n",
      "\u001b[0;32m<ipython-input-33-6f4ecb8210d6>\u001b[0m in \u001b[0;36mgenerate_predictions\u001b[0;34m(dense_layers, activation, dropout, batch_size, epoch)\u001b[0m\n\u001b[1;32m     16\u001b[0m         \u001b[0mx_val\u001b[0m \u001b[0;34m=\u001b[0m \u001b[0mscaler\u001b[0m\u001b[0;34m.\u001b[0m\u001b[0mfit\u001b[0m\u001b[0;34m(\u001b[0m\u001b[0mx_train\u001b[0m\u001b[0;34m)\u001b[0m\u001b[0;34m.\u001b[0m\u001b[0mtransform\u001b[0m\u001b[0;34m(\u001b[0m\u001b[0mx_val\u001b[0m\u001b[0;34m)\u001b[0m\u001b[0;34m\u001b[0m\u001b[0;34m\u001b[0m\u001b[0m\n\u001b[1;32m     17\u001b[0m         \u001b[0mmodel\u001b[0m \u001b[0;34m=\u001b[0m \u001b[0mmake_model\u001b[0m\u001b[0;34m(\u001b[0m\u001b[0mmake_tuple\u001b[0m\u001b[0;34m(\u001b[0m\u001b[0mdense_layers\u001b[0m\u001b[0;34m)\u001b[0m\u001b[0;34m,\u001b[0m \u001b[0mactivation\u001b[0m\u001b[0;34m,\u001b[0m \u001b[0mdropout\u001b[0m\u001b[0;34m)\u001b[0m\u001b[0;34m\u001b[0m\u001b[0;34m\u001b[0m\u001b[0m\n\u001b[0;32m---> 18\u001b[0;31m         \u001b[0mstatus\u001b[0m \u001b[0;34m=\u001b[0m \u001b[0mmodel\u001b[0m\u001b[0;34m.\u001b[0m\u001b[0mload_weights\u001b[0m\u001b[0;34m(\u001b[0m\u001b[0;34m(\u001b[0m\u001b[0mcheckpoint_dir\u001b[0m \u001b[0;34m/\u001b[0m \u001b[0;34mf'ckpt_{fold}_{epoch}'\u001b[0m\u001b[0;34m)\u001b[0m\u001b[0;34m.\u001b[0m\u001b[0mas_posix\u001b[0m\u001b[0;34m(\u001b[0m\u001b[0;34m)\u001b[0m\u001b[0;34m)\u001b[0m\u001b[0;34m\u001b[0m\u001b[0;34m\u001b[0m\u001b[0m\n\u001b[0m\u001b[1;32m     19\u001b[0m         \u001b[0mstatus\u001b[0m\u001b[0;34m.\u001b[0m\u001b[0mexpect_partial\u001b[0m\u001b[0;34m(\u001b[0m\u001b[0;34m)\u001b[0m\u001b[0;34m\u001b[0m\u001b[0;34m\u001b[0m\u001b[0m\n\u001b[1;32m     20\u001b[0m         \u001b[0mpredictions\u001b[0m\u001b[0;34m.\u001b[0m\u001b[0mappend\u001b[0m\u001b[0;34m(\u001b[0m\u001b[0mpd\u001b[0m\u001b[0;34m.\u001b[0m\u001b[0mSeries\u001b[0m\u001b[0;34m(\u001b[0m\u001b[0mmodel\u001b[0m\u001b[0;34m.\u001b[0m\u001b[0mpredict\u001b[0m\u001b[0;34m(\u001b[0m\u001b[0mx_val\u001b[0m\u001b[0;34m)\u001b[0m\u001b[0;34m.\u001b[0m\u001b[0msqueeze\u001b[0m\u001b[0;34m(\u001b[0m\u001b[0;34m)\u001b[0m\u001b[0;34m,\u001b[0m \u001b[0mindex\u001b[0m\u001b[0;34m=\u001b[0m\u001b[0my_val\u001b[0m\u001b[0;34m.\u001b[0m\u001b[0mindex\u001b[0m\u001b[0;34m)\u001b[0m\u001b[0;34m)\u001b[0m\u001b[0;34m\u001b[0m\u001b[0;34m\u001b[0m\u001b[0m\n",
      "\u001b[0;32m/opt/conda/envs/ml4t-dl/lib/python3.7/site-packages/tensorflow_core/python/keras/engine/training.py\u001b[0m in \u001b[0;36mload_weights\u001b[0;34m(self, filepath, by_name, skip_mismatch)\u001b[0m\n\u001b[1;32m    232\u001b[0m         raise ValueError('Load weights is not yet supported with TPUStrategy '\n\u001b[1;32m    233\u001b[0m                          'with steps_per_run greater than 1.')\n\u001b[0;32m--> 234\u001b[0;31m     \u001b[0;32mreturn\u001b[0m \u001b[0msuper\u001b[0m\u001b[0;34m(\u001b[0m\u001b[0mModel\u001b[0m\u001b[0;34m,\u001b[0m \u001b[0mself\u001b[0m\u001b[0;34m)\u001b[0m\u001b[0;34m.\u001b[0m\u001b[0mload_weights\u001b[0m\u001b[0;34m(\u001b[0m\u001b[0mfilepath\u001b[0m\u001b[0;34m,\u001b[0m \u001b[0mby_name\u001b[0m\u001b[0;34m,\u001b[0m \u001b[0mskip_mismatch\u001b[0m\u001b[0;34m)\u001b[0m\u001b[0;34m\u001b[0m\u001b[0;34m\u001b[0m\u001b[0m\n\u001b[0m\u001b[1;32m    235\u001b[0m \u001b[0;34m\u001b[0m\u001b[0m\n\u001b[1;32m    236\u001b[0m   \u001b[0;34m@\u001b[0m\u001b[0mtrackable\u001b[0m\u001b[0;34m.\u001b[0m\u001b[0mno_automatic_dependency_tracking\u001b[0m\u001b[0;34m\u001b[0m\u001b[0;34m\u001b[0m\u001b[0m\n",
      "\u001b[0;32m/opt/conda/envs/ml4t-dl/lib/python3.7/site-packages/tensorflow_core/python/keras/engine/network.py\u001b[0m in \u001b[0;36mload_weights\u001b[0;34m(self, filepath, by_name, skip_mismatch)\u001b[0m\n\u001b[1;32m   1185\u001b[0m     \u001b[0;32melse\u001b[0m\u001b[0;34m:\u001b[0m\u001b[0;34m\u001b[0m\u001b[0;34m\u001b[0m\u001b[0m\n\u001b[1;32m   1186\u001b[0m       \u001b[0;32mtry\u001b[0m\u001b[0;34m:\u001b[0m\u001b[0;34m\u001b[0m\u001b[0;34m\u001b[0m\u001b[0m\n\u001b[0;32m-> 1187\u001b[0;31m         \u001b[0mpy_checkpoint_reader\u001b[0m\u001b[0;34m.\u001b[0m\u001b[0mNewCheckpointReader\u001b[0m\u001b[0;34m(\u001b[0m\u001b[0mfilepath\u001b[0m\u001b[0;34m)\u001b[0m\u001b[0;34m\u001b[0m\u001b[0;34m\u001b[0m\u001b[0m\n\u001b[0m\u001b[1;32m   1188\u001b[0m         \u001b[0msave_format\u001b[0m \u001b[0;34m=\u001b[0m \u001b[0;34m'tf'\u001b[0m\u001b[0;34m\u001b[0m\u001b[0;34m\u001b[0m\u001b[0m\n\u001b[1;32m   1189\u001b[0m       \u001b[0;32mexcept\u001b[0m \u001b[0merrors_impl\u001b[0m\u001b[0;34m.\u001b[0m\u001b[0mDataLossError\u001b[0m\u001b[0;34m:\u001b[0m\u001b[0;34m\u001b[0m\u001b[0;34m\u001b[0m\u001b[0m\n",
      "\u001b[0;32m/opt/conda/envs/ml4t-dl/lib/python3.7/site-packages/tensorflow_core/python/training/py_checkpoint_reader.py\u001b[0m in \u001b[0;36mNewCheckpointReader\u001b[0;34m(filepattern)\u001b[0m\n\u001b[1;32m     97\u001b[0m   \u001b[0;31m# issue with throwing python exceptions from C++.\u001b[0m\u001b[0;34m\u001b[0m\u001b[0;34m\u001b[0m\u001b[0;34m\u001b[0m\u001b[0m\n\u001b[1;32m     98\u001b[0m   \u001b[0;32mexcept\u001b[0m \u001b[0mRuntimeError\u001b[0m \u001b[0;32mas\u001b[0m \u001b[0me\u001b[0m\u001b[0;34m:\u001b[0m\u001b[0;34m\u001b[0m\u001b[0;34m\u001b[0m\u001b[0m\n\u001b[0;32m---> 99\u001b[0;31m     \u001b[0merror_translator\u001b[0m\u001b[0;34m(\u001b[0m\u001b[0me\u001b[0m\u001b[0;34m)\u001b[0m\u001b[0;34m\u001b[0m\u001b[0;34m\u001b[0m\u001b[0m\n\u001b[0m",
      "\u001b[0;32m/opt/conda/envs/ml4t-dl/lib/python3.7/site-packages/tensorflow_core/python/training/py_checkpoint_reader.py\u001b[0m in \u001b[0;36merror_translator\u001b[0;34m(e)\u001b[0m\n\u001b[1;32m     33\u001b[0m       \u001b[0;34m'Failed to find any '\u001b[0m\u001b[0;34m\u001b[0m\u001b[0;34m\u001b[0m\u001b[0m\n\u001b[1;32m     34\u001b[0m       'matching files for') in error_message:\n\u001b[0;32m---> 35\u001b[0;31m     \u001b[0;32mraise\u001b[0m \u001b[0merrors_impl\u001b[0m\u001b[0;34m.\u001b[0m\u001b[0mNotFoundError\u001b[0m\u001b[0;34m(\u001b[0m\u001b[0;32mNone\u001b[0m\u001b[0;34m,\u001b[0m \u001b[0;32mNone\u001b[0m\u001b[0;34m,\u001b[0m \u001b[0merror_message\u001b[0m\u001b[0;34m)\u001b[0m\u001b[0;34m\u001b[0m\u001b[0;34m\u001b[0m\u001b[0m\n\u001b[0m\u001b[1;32m     36\u001b[0m   elif 'Sliced checkpoints are not supported' in error_message or (\n\u001b[1;32m     37\u001b[0m       \u001b[0;34m'Data type '\u001b[0m\u001b[0;34m\u001b[0m\u001b[0;34m\u001b[0m\u001b[0m\n",
      "\u001b[0;31mNotFoundError\u001b[0m: Unsuccessful TensorSliceReader constructor: Failed to find any matching files for results/logs/(64, 32)/tanh/0.1/64/ckpt_0_7"
     ]
    }
   ],
   "source": [
    "best_params = get_best_params()\n",
    "predictions = []\n",
    "for i, params in enumerate(best_params):\n",
    "    predictions.append(generate_predictions(**params).to_frame(i))\n",
    "\n",
    "predictions = pd.concat(predictions, axis=1)\n",
    "print(predictions.info())\n",
    "predictions.to_hdf(results_path / 'test_preds.h5', 'predictions')"
   ]
  },
  {
   "cell_type": "markdown",
   "metadata": {},
   "source": [
    "### How to further improve the results\n",
    "\n",
    "The relatively simple architecture yields some promising results. To further improve performance, you can\n",
    "- First and foremost, add new features and more data to the model\n",
    "- Expand the set of architectures to explore, including more or wider layers\n",
    "- Inspect the training progress and train for more epochs if the validation error continued to improve at 50 epochs\n",
    "\n",
    "Finally, you can use more sophisticated architectures, including Recurrent Neural Networks (RNN) and Convolutional Neural Networks that are well suited to sequential data, whereas vanilla feedforward NNs are not designed to capture the ordered nature of the features.\n"
   ]
  }
 ],
 "metadata": {
  "kernelspec": {
   "display_name": "Python [conda env:ml4t-dl]",
   "language": "python",
   "name": "conda-env-ml4t-dl-py"
  },
  "language_info": {
   "codemirror_mode": {
    "name": "ipython",
    "version": 3
   },
   "file_extension": ".py",
   "mimetype": "text/x-python",
   "name": "python",
   "nbconvert_exporter": "python",
   "pygments_lexer": "ipython3",
   "version": "3.7.7"
  },
  "toc": {
   "base_numbering": 1,
   "nav_menu": {},
   "number_sections": true,
   "sideBar": true,
   "skip_h1_title": true,
   "title_cell": "Table of Contents",
   "title_sidebar": "Contents",
   "toc_cell": false,
   "toc_position": {
    "height": "calc(100% - 180px)",
    "left": "10px",
    "top": "150px",
    "width": "282.222px"
   },
   "toc_section_display": true,
   "toc_window_display": true
  }
 },
 "nbformat": 4,
 "nbformat_minor": 4
}
